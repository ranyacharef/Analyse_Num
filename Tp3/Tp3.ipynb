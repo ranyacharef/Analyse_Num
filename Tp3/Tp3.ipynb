{
 "cells": [
  {
   "cell_type": "code",
   "execution_count": 88,
   "id": "67dd4ed8",
   "metadata": {},
   "outputs": [],
   "source": [
    "%matplotlib inline\n",
    "import ipywidgets as widgets\n",
    "import matplotlib.pyplot as plt\n",
    "import numpy as np\n",
    "from numpy import *\n",
    "from ipywidgets import interact, interactive, fixed, interact_manual\n",
    "import ipywidgets as widgets\n",
    "from scipy.integrate import quad"
   ]
  },
  {
   "cell_type": "code",
   "execution_count": 89,
   "id": "eb8bfc28",
   "metadata": {},
   "outputs": [],
   "source": [
    "class RectangleG ( object ) :\n",
    "    def __init__ (self , a , b , n , f ) :\n",
    "        self.a = a\n",
    "        self.b = b\n",
    "        self.x = np.linspace( a , b , n+1 )\n",
    "        self.f = f\n",
    "        self.n = n\n",
    "    def integrate ( self , f ) :\n",
    "        x= self.x\n",
    "        y= f( x )\n",
    "        h = float( x[1] - x[0] )\n",
    "\n",
    "        s = sum( y[ 0 : -1 ] )\n",
    "        return h * s\n",
    "    def Graph ( self , f , resolution =1001 ) :\n",
    "        xl = self.x\n",
    "        yl = f(xl)\n",
    "        xlist_fine =np.linspace( self.a , self.b , resolution )\n",
    "        for i in range ( self.n ) :\n",
    "            x_rect = [xl[ i ] , xl[ i ] , xl[ i + 1 ] , xl[i+1] , xl[ i ] ] # abscisses des sommets\n",
    "            y_rect = [0 , yl[ i ] , yl[ i ] , 0 , 0 ] # ordonnees des sommets\n",
    "            plt.plot ( x_rect , y_rect , 'r' )\n",
    "        yflist_fine = f ( xlist_fine )\n",
    "        plt.plot ( xlist_fine , yflist_fine )\n",
    "        plt.plot(xl, yl,\"bo\")\n",
    "        plt.xlabel ( 'x' )\n",
    "        plt.ylabel ( ' f ( x ) ' )\n",
    "        plt.title('Methode des Rectangles Gauches, N = {}'.format(self.n))"
   ]
  },
  {
   "cell_type": "code",
   "execution_count": 90,
   "id": "5ced661d",
   "metadata": {},
   "outputs": [],
   "source": [
    "class RectangleM( object) :\n",
    "    \n",
    "    def __init__(self, a, b, n, f):\n",
    "        self.a = a\n",
    "        self.b = b\n",
    "        self.x = np.linspace(a, b, n+1)\n",
    "        self.f = f\n",
    "        self.n = n\n",
    "    def integrate(self,f):\n",
    "        h = float(self.b-self.a)/self.n\n",
    "        result = 0\n",
    "        for i in range(self.n):\n",
    "            result += f((self.a + h/2.0) + i*h)\n",
    "        result *= h\n",
    "        return result\n",
    "    def Graph ( self , f , resolution =1001 ) :\n",
    "        xl = self.x\n",
    "        yl = f(xl)\n",
    "        xlist_fine =np.linspace( self.a , self.b , resolution )\n",
    "        for i in range ( self.n ) :\n",
    "            mi = (xl[i]+xl[i+1])/2\n",
    "            x_rect = [xl[ i ] , xl[ i ],xl[ i+1 ],xl[ i+1 ],xl[ i ]] # abscisses des sommets\n",
    "            y_rect = [0 , f(mi),f(mi),0,0] # ordonnees des sommets\n",
    "            plt.plot(x_rect,y_rect,'r')\n",
    "            plt.plot ( mi , f(mi) , 'bo' )\n",
    "        yflist_fine = f ( xlist_fine )\n",
    "        plt.plot ( xlist_fine , yflist_fine )\n",
    "        plt.xlabel ( 'x' )\n",
    "        plt.ylabel ( ' f ( x ) ' )\n",
    "        plt.title('Methode de Point Milieu, N = {}'.format(self.n))\n",
    "\n"
   ]
  },
  {
   "cell_type": "code",
   "execution_count": 91,
   "id": "8a037669",
   "metadata": {},
   "outputs": [],
   "source": [
    "class Trapezoidal(object):\n",
    "    def __init__(self, a, b, n, f):\n",
    "        self.a = a\n",
    "        self.b = b\n",
    "        self.x = np.linspace(a, b, n+1)\n",
    "        self.f = f\n",
    "        self.n = n\n",
    "    def integrate(self,f):\n",
    "        x=self.x\n",
    "        y=f(x)\n",
    "        h = float(x[1] - x[0])\n",
    "        s = y[0] + y[-1] + 2.0*sum(y[1:-1])\n",
    "        return h * s / 2.0\n",
    "    def Graph(self,f,resolution=1001):\n",
    "        xl = self.x\n",
    "        yl = f(xl)\n",
    "        xlist_fine=np.linspace(self.a, self.b, resolution)\n",
    "        for i in range(self.n):\n",
    "            x_rect = [xl[i], xl[i], xl[i+1], xl[i+1], xl[i]] # abscisses des sommets\n",
    "            y_rect = [0   , yl[i], yl[i+1]  , 0     , 0   ] # ordonnees des sommets\n",
    "            plt.plot(x_rect, y_rect,\"r\")\n",
    "        yflist_fine = f(xlist_fine)\n",
    "        plt.plot(xlist_fine, yflist_fine)#plot de f(x)\n",
    "        plt.plot(xl, yl,\"cs\")#point support\n",
    "        plt.ylabel ( ' f ( x ) ' )\n",
    "        plt.title('Methode des Trapézes, N = {}'.format(self.n))\n"
   ]
  },
  {
   "cell_type": "code",
   "execution_count": 92,
   "id": "e4d41f7c",
   "metadata": {},
   "outputs": [],
   "source": [
    "class Simpson(object):\n",
    "    def __init__(self, a, b, n, f): #initialiser les paramètres du classe\n",
    "        self.a = a\n",
    "        self.b = b\n",
    "        self.x = np.linspace(a, b, n+1)#les pts supports\n",
    "        self.f = f\n",
    "        self.n = n #nombre de subdivision\n",
    "\n",
    "    def integrate(self,f):#calculer la somme ((b-a)/6*n)*[f(a)+2*sum(xi)+4*sum(mi)+f(b)]\n",
    "        x=self.x #les points supports xi #x(0)=a-->x(n)=b\n",
    "        y=f(x) #yi variable local y(o)=f(xo)-->y(n)\n",
    "        h = float(x[1] - x[0])#pas h=(b-a)/2*n\n",
    "        n = len(x) - 1#nombre subdivision\n",
    "        if n % 2 == 1:#si le reste de la division =1 impaire\n",
    "            n -= 1\n",
    "        s = y[0] + y[n] + 4.0 * sum(y[1:-1:2]) + 2.0 * sum(y[2:-2:2])\n",
    "        return h * s / 3.0\n",
    "    def Graph(self,f,resolution=1001):\n",
    "        xl = self.x \n",
    "        yl = f(xl) \n",
    "        xlist_fine=np.linspace(self.a, self.b, resolution)\n",
    "        for i in range(self.n):\n",
    "            xx=np.linspace(xl[i], xl[i+1], resolution)\n",
    "            m=(xl[i]+xl[i+1])/2#pt milieu\n",
    "            aa=xl[i]#borne gauche\n",
    "            bb=xl[i+1]#borne droite\n",
    "            l0 = (xx-m)/(aa-m)*(xx-bb)/(aa-bb)\n",
    "            l1 = (xx-aa)/(m-aa)*(xx-bb)/(m-bb)\n",
    "            l2 = (xx-aa)/(bb-aa)*(xx-m)/(bb-m)\n",
    "            P = f(aa)*l0 + f(m)*l1 + f(bb)*l2#\n",
    "            plt.plot(xx,P,'r')\n",
    "            plt.plot(m,f(m),\"r\",marker=\"s\")\n",
    "        yflist_fine = f(xlist_fine)#fontion f\n",
    "        plt.plot(xlist_fine, yflist_fine,'b')\n",
    "        plt.plot(xl, yl,'bo')#point support en bleu rond\n",
    "        plt.ylabel('f(x)')\n",
    "        plt.title('Methode de Simpson, N = {}'.format(self.n))"
   ]
  },
  {
   "cell_type": "code",
   "execution_count": 98,
   "id": "a6cc735b",
   "metadata": {},
   "outputs": [
    {
     "data": {
      "application/vnd.jupyter.widget-view+json": {
       "model_id": "5825362c83d94d0086ea1404cc8d66df",
       "version_major": 2,
       "version_minor": 0
      },
      "text/plain": [
       "interactive(children=(Dropdown(description='methode', options=('Trapèze', 'Rectangle', 'Point Milieu', 'Simpso…"
      ]
     },
     "metadata": {},
     "output_type": "display_data"
    }
   ],
   "source": [
    "@interact(methode=['Trapèze','Rectangle','Point Milieu','Simpson'],\n",
    "          a=-np.pi,b=np.pi,\n",
    "          n=[5,25,50],\n",
    "          f={'f1(x)=sin(x)':lambda x:np.sin(x),'f3(x)=x**2+x-1':lambda x:x**2+x-1,'f2(x)=cos(x)':lambda x:np.cos(x),'f4(x)=1/(1+x**2)':lambda x:x**2+x-1})\n",
    "def test(methode,a,b,n,f):\n",
    "    I = quad(f, a, b)[0]\n",
    "    meth={'Trapèze':Trapezoidal,'Rectangle':RectangleG,'Point Milieu':RectangleM,'Simpson':Simpson}\n",
    "    M=meth[methode](a,b,n,f)\n",
    "    print('l\\'intégrale avec la méthode {}= {}'.format(methode,M.integrate(f)))\n",
    "    print('l\\'erreur d\\'intégration = {}'.format(I-M.integrate(f)))\n",
    "    M.Graph(f)\n",
    "    plt.show()\n",
    "\n"
   ]
  }
 ],
 "metadata": {
  "kernelspec": {
   "display_name": "Python 3",
   "language": "python",
   "name": "python3"
  },
  "language_info": {
   "codemirror_mode": {
    "name": "ipython",
    "version": 3
   },
   "file_extension": ".py",
   "mimetype": "text/x-python",
   "name": "python",
   "nbconvert_exporter": "python",
   "pygments_lexer": "ipython3",
   "version": "3.8.8"
  }
 },
 "nbformat": 4,
 "nbformat_minor": 5
}
